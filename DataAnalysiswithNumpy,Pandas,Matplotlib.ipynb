{
 "cells": [
  {
   "cell_type": "code",
   "execution_count": null,
   "id": "65636f00",
   "metadata": {},
   "outputs": [],
   "source": [
    "import numpy as np\n",
    "import pandas as pd\n",
    "import matplotlib.pyplot as plt\n",
    "import seaborn as sns\n",
    "from sklearn.datasets import load_iris\n",
    "\n",
    "iris = load_iris()\n",
    "df = pd.DataFrame(iris.data, columns=iris.feature_names)\n",
    "df['species'] = iris.target\n",
    "df['species'] = df['species'].map({0: 'setosa', 1: 'versicolor', 2: 'virginica'})\n",
    "\n",
    "print(\" چند ردیف اول دیتاست:\")\n",
    "print(df.head())\n",
    "\n",
    "print(\"\\n آمار توصیفی:\")\n",
    "print(df.describe())\n",
    "\n",
    "print(\"\\n میانگین ویژگی‌ها بر اساس گونه گل:\")\n",
    "print(df.groupby('species').mean())\n",
    "\n",
    "\n",
    "sepal_length = df['sepal length (cm)'].values\n",
    "print(\"\\n میانگین طول کاسبرگ (Sepal length) با NumPy:\", np.mean(sepal_length))\n",
    "print(\" واریانس طول کاسبرگ:\", np.var(sepal_length))\n",
    "\n",
    "plt.figure(figsize=(6,4))\n",
    "plt.hist(sepal_length, bins=20, color='skyblue', edgecolor='black')\n",
    "plt.title(\"Distribution of Sepal Length\")\n",
    "plt.xlabel(\"Sepal Length (cm)\")\n",
    "plt.ylabel(\"Frequency\")\n",
    "plt.show()\n",
    "\n",
    "\n",
    "plt.figure(figsize=(6,5))\n",
    "sns.scatterplot(data=df, x='sepal length (cm)', y='petal length (cm)', hue='species', palette='Set2')\n",
    "plt.title(\"Sepal Length vs Petal Length by Species\")\n",
    "plt.show()\n",
    "\n",
    "\n",
    "plt.figure(figsize=(8,5))\n",
    "sns.boxplot(data=df, x='species', y='sepal length (cm)', palette='Pastel1')\n",
    "plt.title(\"Sepal Length Distribution per Species\")\n",
    "plt.show()\n",
    "\n",
    "\n",
    "plt.figure(figsize=(8,6))\n",
    "sns.heatmap(df.drop('species', axis=1).corr(), annot=True, cmap=\"coolwarm\", fmt=\".2f\")\n",
    "plt.title(\"Correlation Matrix of Iris Features\")\n",
    "plt.show()\n"
   ]
  },
  {
   "cell_type": "code",
   "execution_count": null,
   "id": "f8856bac",
   "metadata": {},
   "outputs": [],
   "source": []
  }
 ],
 "metadata": {
  "kernelspec": {
   "display_name": "Python 3 (ipykernel)",
   "language": "python",
   "name": "python3"
  },
  "language_info": {
   "codemirror_mode": {
    "name": "ipython",
    "version": 3
   },
   "file_extension": ".py",
   "mimetype": "text/x-python",
   "name": "python",
   "nbconvert_exporter": "python",
   "pygments_lexer": "ipython3",
   "version": "3.11.4"
  }
 },
 "nbformat": 4,
 "nbformat_minor": 5
}
